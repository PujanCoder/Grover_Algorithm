{
 "cells": [
  {
   "cell_type": "code",
   "execution_count": 1,
   "id": "1ea60b05-d11c-4717-add9-a2eafb65ed9e",
   "metadata": {},
   "outputs": [],
   "source": [
    "my_lists= [1,12,2,3,4,5,7,0,9]"
   ]
  },
  {
   "cell_type": "code",
   "execution_count": 12,
   "id": "06ffd911-b00f-45da-8067-54a4cdfc304f",
   "metadata": {},
   "outputs": [],
   "source": [
    "def the_oracle(my_input):\n",
    "    winner = 7\n",
    "    if my_input is winner:\n",
    "        response = True\n",
    "    else:\n",
    "        response = False\n",
    "    return response\n",
    "    "
   ]
  },
  {
   "cell_type": "code",
   "execution_count": 13,
   "id": "861fd12a-10ce-467b-be84-5d6ebab609de",
   "metadata": {},
   "outputs": [
    {
     "name": "stdout",
     "output_type": "stream",
     "text": [
      "Winner found at index 6\n",
      " 7 calls to the oracle used \n"
     ]
    }
   ],
   "source": [
    "for index , trial_number in enumerate(my_lists):\n",
    "    if the_oracle(trial_number) is True:\n",
    "        print(\"Winner found at index %i\" %index)\n",
    "        print(\" %i calls to the oracle used \" %(index +1))\n",
    "        break\n",
    "        \n",
    "    "
   ]
  },
  {
   "cell_type": "code",
   "execution_count": 31,
   "id": "ba528f75-74fc-4195-b588-ab54b04fddd2",
   "metadata": {},
   "outputs": [],
   "source": [
    "import qiskit\n",
    "from qiskit import *\n",
    "import matplotlib.pyplot as plt\n",
    "import numpy as np\n",
    "from qiskit import QuantumCircuit , ClassicalRegister\n",
    "from qiskit.circuit import Parameter\n",
    "from qiskit.visualization import plot_histogram, plot_distribution\n",
    "from qiskit_ibm_runtime import Options, Session, SamplerV2 as Sampler\n",
    "from qiskit.result import marginal_distribution\n",
    "from qiskit.circuit.controlflow import IfElseOp\n",
    "from qiskit.primitives import Sampler\n",
    "\n",
    "from qiskit.transpiler import generate_preset_pass_manager\n",
    "from qiskit_ibm_runtime import QiskitRuntimeService\n",
    "from qiskit_aer import AerSimulator\n",
    "\n"
   ]
  },
  {
   "cell_type": "code",
   "execution_count": 32,
   "id": "b781b746-c285-4a4f-83e9-17d6087a0fd6",
   "metadata": {},
   "outputs": [
    {
     "data": {
      "image/png": "[encoded data removed]",
      "text/plain": [
       "<Figure size 203.683x200.667 with 1 Axes>"
      ]
     },
     "execution_count": 32,
     "metadata": {},
     "output_type": "execute_result"
    }
   ],
   "source": [
    "oracle = QuantumCircuit(2)\n",
    "oracle.cx(0,1)\n",
    "oracle.to_gate()\n",
    "oracle.draw('mpl')"
   ]
  },
  {
   "cell_type": "code",
   "execution_count": 33,
   "id": "2ea37393-7418-4005-be43-07f5a74acaec",
   "metadata": {},
   "outputs": [
    {
     "data": {
      "image/png": "[encoded data removed]",
      "text/plain": [
       "<Figure size 370.906x284.278 with 1 Axes>"
      ]
     },
     "execution_count": 33,
     "metadata": {},
     "output_type": "execute_result"
    }
   ],
   "source": [
    "backend = AerSimulator(method = 'statevector')\n",
    "grover_circ = QuantumCircuit(2,2)\n",
    "grover_circ.h([0,1])\n",
    "grover_circ.append(oracle,[0,1])\n",
    "grover_circ.draw('mpl')"
   ]
  },
  {
   "cell_type": "code",
   "execution_count": 37,
   "id": "b522ae1d-70c4-4eec-aa54-e46c9e730126",
   "metadata": {},
   "outputs": [
    {
     "ename": "TypeError",
     "evalue": "BaseSamplerV1.run() missing 1 required positional argument: 'self'",
     "output_type": "error",
     "traceback": [
      "\u001b[1;31m---------------------------------------------------------------------------\u001b[0m",
      "\u001b[1;31mTypeError\u001b[0m                                 Traceback (most recent call last)",
      "Cell \u001b[1;32mIn[37], line 1\u001b[0m\n\u001b[1;32m----> 1\u001b[0m job \u001b[38;5;241m=\u001b[39m \u001b[43mSampler\u001b[49m\u001b[38;5;241;43m.\u001b[39;49m\u001b[43mrun\u001b[49m\u001b[43m(\u001b[49m\u001b[43mcircuits\u001b[49m\u001b[38;5;241;43m=\u001b[39;49m\u001b[43mgrover_circ\u001b[49m\u001b[43m,\u001b[49m\u001b[43m \u001b[49m\u001b[43mbackend\u001b[49m\u001b[38;5;241;43m=\u001b[39;49m\u001b[43mbackend\u001b[49m\u001b[43m)\u001b[49m\n\u001b[0;32m      2\u001b[0m result \u001b[38;5;241m=\u001b[39m job\u001b[38;5;241m.\u001b[39mresult()\n",
      "\u001b[1;31mTypeError\u001b[0m: BaseSamplerV1.run() missing 1 required positional argument: 'self'"
     ]
    }
   ],
   "source": [
    "job = Sampler.run(circuits=grover_circ, backend=backend)\n",
    "result = job.result()"
   ]
  },
  {
   "cell_type": "code",
   "execution_count": null,
   "id": "8c1eeec8-730c-4ee1-a7e7-fe438a8949fe",
   "metadata": {},
   "outputs": [],
   "source": []
  }
 ],
 "metadata": {
  "kernelspec": {
   "display_name": "Python 3 (ipykernel)",
   "language": "python",
   "name": "python3"
  },
  "language_info": {
   "codemirror_mode": {
    "name": "ipython",
    "version": 3
   },
   "file_extension": ".py",
   "mimetype": "text/x-python",
   "name": "python",
   "nbconvert_exporter": "python",
   "pygments_lexer": "ipython3",
   "version": "3.13.5"
  }
 },
 "nbformat": 4,
 "nbformat_minor": 5
}
